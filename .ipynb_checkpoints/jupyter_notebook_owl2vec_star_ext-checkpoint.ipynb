{
 "cells": [
  {
   "cell_type": "markdown",
   "id": "355a241a",
   "metadata": {},
   "source": [
    "# Owl2vec_star_ext\n",
    "In this process, we get ontology files and to change it to embedding model"
   ]
  },
  {
   "cell_type": "code",
   "execution_count": null,
   "id": "3d810e5f",
   "metadata": {},
   "outputs": [],
   "source": [
    "import owl2vec_star_ext\n",
    "\n",
    "#Parameters:\n",
    "# ontology_file1\n",
    "# ontology_file2\n",
    "# mapping_file\n",
    "# config_file\n",
    "# uri_doc\n",
    "# lit_doc\n",
    "# mix_doc\n",
    "#but there are some parameters you can change in config file\n",
    "gensim_model = owl2vec_star_ext.extract_owl2vec_model(ontology_file1 = \"./case_studies/Data/cmt.owl\",\n",
    "                                                ontology_file2 = './case_studies/Data/Conference.owl',\n",
    "                                                mapping_file = './case_studies/Data/ALIN-cmt-conference.txt',\n",
    "                                                config_file = \"./default1.cfg\",\n",
    "                                                uri_doc = True, lit_doc = True, mix_doc = True)\n",
    "\n",
    "output_folder=\"./caches_myuniversity/\"\n",
    "\n",
    "#Gensim format\n",
    "gensim_model.save(output_folder+\"ontology.embeddings\")\n",
    "\n",
    "#Txt format\n",
    "gensim_model.wv.save_word2vec_format(output_folder+\"ontology.embeddings.txt\", binary=False)\n"
   ]
  },
  {
   "cell_type": "markdown",
   "id": "69a78df2",
   "metadata": {},
   "source": [
    "## Loading embeddings and getting similarities"
   ]
  },
  {
   "cell_type": "code",
   "execution_count": null,
   "id": "8fdbcf09",
   "metadata": {},
   "outputs": [],
   "source": [
    "from gensim.models import KeyedVectors\n",
    "\n",
    "#Embedding vectors generated above\n",
    "model = KeyedVectors.load(\"./caches_cmt/output.bin\", mmap='r')\n",
    "wv = model.wv\n",
    "\n",
    "vector = wv['committee']  # Get numpy vector of a word\n",
    "print(\"Vector for 'committee'\")\n",
    "print(vector)\n",
    "print()\n",
    "\n",
    "#cosine similarity\n",
    "similarity = wv.similarity('committee', 'http://conference#Committee')\n",
    "print(similarity)\n",
    "print()\n",
    "\n",
    "similarity = wv.similarity('http://conference#Reviewer', 'reviewer')\n",
    "print(similarity)\n",
    "print()\n",
    "\n",
    "#Most similar cosine similarity\n",
    "result = wv.most_similar(positive=['reviewer', 'committee'])\n",
    "print(result)\n",
    "print()\n",
    "\n",
    "#Most similar entities: cosmul\n",
    "result = wv.most_similar_cosmul(positive=['reviewer'])\n",
    "print(result)\n",
    "print()"
   ]
  }
 ],
 "metadata": {
  "kernelspec": {
   "display_name": "Python 3.8.10 64-bit",
   "language": "python",
   "name": "python3"
  },
  "language_info": {
   "codemirror_mode": {
    "name": "ipython",
    "version": 3
   },
   "file_extension": ".py",
   "mimetype": "text/x-python",
   "name": "python",
   "nbconvert_exporter": "python",
   "pygments_lexer": "ipython3",
   "version": "3.8.10"
  },
  "vscode": {
   "interpreter": {
    "hash": "916dbcbb3f70747c44a77c7bcd40155683ae19c65e1c03b4aa3499c5328201f1"
   }
  }
 },
 "nbformat": 4,
 "nbformat_minor": 5
}
